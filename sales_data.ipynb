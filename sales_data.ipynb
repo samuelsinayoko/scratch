{
 "cells": [
  {
   "cell_type": "markdown",
   "metadata": {},
   "source": [
    "# Exploring Window Functions with SQL and Pandas\n",
    "Based on http://www.helenanderson.co.nz/sql-window-functions-part-1/"
   ]
  },
  {
   "cell_type": "code",
   "execution_count": 1,
   "metadata": {},
   "outputs": [
    {
     "name": "stderr",
     "output_type": "stream",
     "text": [
      "/Users/sinayoks/apps/miniconda3/lib/python3.6/site-packages/matplotlib/__init__.py:1066: UserWarning: Duplicate key in file \"/Users/sinayoks/.matplotlib/matplotlibrc\", line #381\n",
      "  (fname, cnt))\n"
     ]
    }
   ],
   "source": [
    "import numpy as np\n",
    "import pandas as pd\n",
    "np.random.seed(20190904)"
   ]
  },
  {
   "cell_type": "code",
   "execution_count": 2,
   "metadata": {},
   "outputs": [],
   "source": [
    "import psycopg2\n",
    "import psycopg2.extras\n",
    "\n"
   ]
  },
  {
   "cell_type": "markdown",
   "metadata": {},
   "source": [
    "# Generate sample dataset"
   ]
  },
  {
   "cell_type": "code",
   "execution_count": 3,
   "metadata": {},
   "outputs": [],
   "source": [
    "N = 1000\n",
    "NB_YEARS = 1\n",
    "START_DATE = '2018-01-01'"
   ]
  },
  {
   "cell_type": "code",
   "execution_count": 4,
   "metadata": {},
   "outputs": [],
   "source": [
    "def sample_dataset(start_date=START_DATE, nb_years=NB_YEARS, size=N):\n",
    "    ordermonth = pd.Series(\n",
    "        pd.to_datetime(\n",
    "            np.random.randint(0, 365 * nb_years, size=size), \n",
    "            unit='D', \n",
    "            origin=start_date\n",
    "        )\n",
    "    ).dt.strftime('%Y-%m')\n",
    "    territoryid = pd.Series(np.random.randint(0, 10, size))\n",
    "    subtotal = pd.Series(np.random.uniform(500, 2500, size=size))\n",
    "    taxamt = 0.075 * subtotal\n",
    "    freight = 0.025 * subtotal\n",
    "    totaldue = subtotal + taxamt\n",
    "    customerid = pd.Series(np.random.randint(1, size//10 + 1, size) + 2000)\n",
    "    salesorderid = np.arange(4000, 4000 + size)\n",
    "    df = pd.DataFrame({\n",
    "        'salesorderid': salesorderid,\n",
    "        'ordermonth': ordermonth,\n",
    "        'territoryid': territoryid,\n",
    "        'subtotal': subtotal,\n",
    "        'taxamt': taxamt,\n",
    "        'freight': freight,\n",
    "        'totaldue': totaldue,\n",
    "        'customerid': customerid\n",
    "    })\n",
    "    return df"
   ]
  },
  {
   "cell_type": "code",
   "execution_count": 5,
   "metadata": {},
   "outputs": [
    {
     "data": {
      "text/html": [
       "<div>\n",
       "<style scoped>\n",
       "    .dataframe tbody tr th:only-of-type {\n",
       "        vertical-align: middle;\n",
       "    }\n",
       "\n",
       "    .dataframe tbody tr th {\n",
       "        vertical-align: top;\n",
       "    }\n",
       "\n",
       "    .dataframe thead th {\n",
       "        text-align: right;\n",
       "    }\n",
       "</style>\n",
       "<table border=\"1\" class=\"dataframe\">\n",
       "  <thead>\n",
       "    <tr style=\"text-align: right;\">\n",
       "      <th></th>\n",
       "      <th>salesorderid</th>\n",
       "      <th>ordermonth</th>\n",
       "      <th>territoryid</th>\n",
       "      <th>subtotal</th>\n",
       "      <th>taxamt</th>\n",
       "      <th>freight</th>\n",
       "      <th>totaldue</th>\n",
       "      <th>customerid</th>\n",
       "    </tr>\n",
       "  </thead>\n",
       "  <tbody>\n",
       "    <tr>\n",
       "      <td>0</td>\n",
       "      <td>4000</td>\n",
       "      <td>2018-10</td>\n",
       "      <td>2</td>\n",
       "      <td>1867.940043</td>\n",
       "      <td>140.095503</td>\n",
       "      <td>46.698501</td>\n",
       "      <td>2008.035546</td>\n",
       "      <td>2079</td>\n",
       "    </tr>\n",
       "    <tr>\n",
       "      <td>1</td>\n",
       "      <td>4001</td>\n",
       "      <td>2018-08</td>\n",
       "      <td>7</td>\n",
       "      <td>1037.805109</td>\n",
       "      <td>77.835383</td>\n",
       "      <td>25.945128</td>\n",
       "      <td>1115.640492</td>\n",
       "      <td>2058</td>\n",
       "    </tr>\n",
       "    <tr>\n",
       "      <td>2</td>\n",
       "      <td>4002</td>\n",
       "      <td>2018-08</td>\n",
       "      <td>3</td>\n",
       "      <td>2318.164763</td>\n",
       "      <td>173.862357</td>\n",
       "      <td>57.954119</td>\n",
       "      <td>2492.027120</td>\n",
       "      <td>2016</td>\n",
       "    </tr>\n",
       "    <tr>\n",
       "      <td>3</td>\n",
       "      <td>4003</td>\n",
       "      <td>2018-08</td>\n",
       "      <td>1</td>\n",
       "      <td>2104.229867</td>\n",
       "      <td>157.817240</td>\n",
       "      <td>52.605747</td>\n",
       "      <td>2262.047107</td>\n",
       "      <td>2042</td>\n",
       "    </tr>\n",
       "    <tr>\n",
       "      <td>4</td>\n",
       "      <td>4004</td>\n",
       "      <td>2018-03</td>\n",
       "      <td>6</td>\n",
       "      <td>2370.179348</td>\n",
       "      <td>177.763451</td>\n",
       "      <td>59.254484</td>\n",
       "      <td>2547.942799</td>\n",
       "      <td>2067</td>\n",
       "    </tr>\n",
       "  </tbody>\n",
       "</table>\n",
       "</div>"
      ],
      "text/plain": [
       "   salesorderid ordermonth  territoryid     subtotal      taxamt    freight  \\\n",
       "0          4000    2018-10            2  1867.940043  140.095503  46.698501   \n",
       "1          4001    2018-08            7  1037.805109   77.835383  25.945128   \n",
       "2          4002    2018-08            3  2318.164763  173.862357  57.954119   \n",
       "3          4003    2018-08            1  2104.229867  157.817240  52.605747   \n",
       "4          4004    2018-03            6  2370.179348  177.763451  59.254484   \n",
       "\n",
       "      totaldue  customerid  \n",
       "0  2008.035546        2079  \n",
       "1  1115.640492        2058  \n",
       "2  2492.027120        2016  \n",
       "3  2262.047107        2042  \n",
       "4  2547.942799        2067  "
      ]
     },
     "execution_count": 5,
     "metadata": {},
     "output_type": "execute_result"
    }
   ],
   "source": [
    "dataset = sample_dataset()\n",
    "dataset.head()"
   ]
  },
  {
   "cell_type": "code",
   "execution_count": 6,
   "metadata": {},
   "outputs": [],
   "source": [
    "dataset.to_csv('sales.csv', index=False)"
   ]
  },
  {
   "cell_type": "code",
   "execution_count": 7,
   "metadata": {},
   "outputs": [
    {
     "data": {
      "text/plain": [
       "'/Users/sinayoks/dev/sql'"
      ]
     },
     "execution_count": 7,
     "metadata": {},
     "output_type": "execute_result"
    }
   ],
   "source": [
    "pwd"
   ]
  },
  {
   "cell_type": "code",
   "execution_count": 8,
   "metadata": {},
   "outputs": [
    {
     "name": "stdout",
     "output_type": "stream",
     "text": [
      "salesorderid,ordermonth,territoryid,subtotal,taxamt,freight,totaldue,customerid\n",
      "4000,2018-10,2,1867.9400426683374,140.0955032001253,46.69850106670844,2008.0355458684626,2079\n",
      "4001,2018-08,7,1037.8051087290623,77.83538315467968,25.94512771822656,1115.640491883742,2058\n",
      "4002,2018-08,3,2318.1647625406504,173.86235719054878,57.95411906351626,2492.027119731199,2016\n",
      "4003,2018-08,1,2104.22986723532,157.817240042649,52.605746680883,2262.0471072779687,2042\n",
      "4004,2018-03,6,2370.179347712942,177.76345107847067,59.254483692823555,2547.9427987914128,2067\n",
      "4005,2018-05,8,1078.934365009996,80.9200773757497,26.973359125249903,1159.8544423857459,2055\n",
      "4006,2018-07,5,900.3227133346401,67.524203500098,22.508067833366002,967.8469168347381,2057\n",
      "4007,2018-05,5,1720.0294820306863,129.00221115230147,43.00073705076716,1849.0316931829877,2050\n",
      "4008,2018-11,7,994.5347728977076,74.59010796732807,24.863369322442693,1069.1248808650357,2096\n"
     ]
    }
   ],
   "source": [
    "!head sales.csv"
   ]
  },
  {
   "cell_type": "markdown",
   "metadata": {},
   "source": [
    "# create postgres database"
   ]
  },
  {
   "cell_type": "code",
   "execution_count": 9,
   "metadata": {},
   "outputs": [],
   "source": [
    "def connect_db(dbname, user=None, **kwargs):\n",
    "    user = user or 'postgres'\n",
    "    con = psycopg2.connect(database=dbname, user=user, **kwargs)\n",
    "    con.autocommit = True\n",
    "    return con"
   ]
  },
  {
   "cell_type": "code",
   "execution_count": 10,
   "metadata": {},
   "outputs": [],
   "source": [
    "def create_db(dbname='sales', drop=True):\n",
    "    con = connect_db('postgres')\n",
    "    cur = con.cursor()\n",
    "    cur.execute(f'DROP DATABASE IF EXISTS {dbname};')\n",
    "    cur.execute(f'DROP USER IF EXISTS {dbname};')\n",
    "    cur.execute(f'CREATE DATABASE {dbname};')\n",
    "    cur.execute(f'CREATE USER {dbname};')\n",
    "    con.close()\n",
    "\n",
    "def create_table(dbname='sales', filename='sales.csv'):\n",
    "    \"\"\"Import data from csv into postgres database.\n",
    "    \n",
    "    Uses psycopg2 and sql COPY. \n",
    "    Could also use pandas.to_sql but this removes dependency on pandas and is also more scaleable.\n",
    "    \"\"\"\n",
    "    con = connect_db(dbname)\n",
    "    with con.cursor() as cur:\n",
    "        cur.execute(f'DROP TABLE IF EXISTS {dbname};')\n",
    "        cur.execute(f\"\"\"\n",
    "CREATE TABLE {dbname} (\n",
    "salesorderid INTEGER UNIQUE NOT NULL,\n",
    "ordermonth VARCHAR (7) NOT NULL,\n",
    "territoryid FLOAT NOT NULL,\n",
    "subtotal FLOAT NOT NULL,\n",
    "taxamt FLOAT NOT NULL,\n",
    "freight FLOAT NOT NULL,\n",
    "totaldue FLOAT NOT NULL,\n",
    "customerid INTEGER NOT NULL\n",
    ");\"\"\")\n",
    "    with con.cursor() as cur:\n",
    "        cur.execute(\n",
    "        f\"COPY {dbname} FROM '/Users/sinayoks/dev/sql/{filename}' WITH (FORMAT csv, HEADER true);\"\n",
    "        )\n",
    "        cur.execute(f'GRANT SELECT ON {dbname} TO {dbname};')\n",
    "    con.close()\n",
    "\n",
    "def query(query, dbname='sales', columns=dataset.columns):\n",
    "    con = connect_db(dbname, user=dbname)\n",
    "    with con.cursor(cursor_factory=psycopg2.extras.NamedTupleCursor) as cur:\n",
    "        cur.execute(query)\n",
    "        return cur.fetchall()\n",
    "\n",
    "def queryframe(*args, **kwargs):\n",
    "    data = query(*args, **kwargs)\n",
    "    return pd.DataFrame(data)\n",
    "    \n",
    "    "
   ]
  },
  {
   "cell_type": "code",
   "execution_count": 11,
   "metadata": {},
   "outputs": [],
   "source": [
    "create_db()"
   ]
  },
  {
   "cell_type": "code",
   "execution_count": 12,
   "metadata": {},
   "outputs": [],
   "source": [
    "create_table()"
   ]
  },
  {
   "cell_type": "code",
   "execution_count": 13,
   "metadata": {},
   "outputs": [
    {
     "data": {
      "text/plain": [
       "[Record(salesorderid=4000, ordermonth='2018-10', territoryid=2.0, subtotal=1867.94004266834, taxamt=140.095503200125, freight=46.6985010667084, totaldue=2008.03554586846, customerid=2079),\n",
       " Record(salesorderid=4001, ordermonth='2018-08', territoryid=7.0, subtotal=1037.80510872906, taxamt=77.8353831546797, freight=25.9451277182266, totaldue=1115.64049188374, customerid=2058)]"
      ]
     },
     "execution_count": 13,
     "metadata": {},
     "output_type": "execute_result"
    }
   ],
   "source": [
    "query('select * from sales limit 2')"
   ]
  },
  {
   "cell_type": "code",
   "execution_count": 14,
   "metadata": {},
   "outputs": [
    {
     "data": {
      "text/html": [
       "<div>\n",
       "<style scoped>\n",
       "    .dataframe tbody tr th:only-of-type {\n",
       "        vertical-align: middle;\n",
       "    }\n",
       "\n",
       "    .dataframe tbody tr th {\n",
       "        vertical-align: top;\n",
       "    }\n",
       "\n",
       "    .dataframe thead th {\n",
       "        text-align: right;\n",
       "    }\n",
       "</style>\n",
       "<table border=\"1\" class=\"dataframe\">\n",
       "  <thead>\n",
       "    <tr style=\"text-align: right;\">\n",
       "      <th></th>\n",
       "      <th>salesorderid</th>\n",
       "      <th>ordermonth</th>\n",
       "      <th>territoryid</th>\n",
       "      <th>subtotal</th>\n",
       "      <th>taxamt</th>\n",
       "      <th>freight</th>\n",
       "      <th>totaldue</th>\n",
       "      <th>customerid</th>\n",
       "    </tr>\n",
       "  </thead>\n",
       "  <tbody>\n",
       "    <tr>\n",
       "      <td>0</td>\n",
       "      <td>4000</td>\n",
       "      <td>2018-10</td>\n",
       "      <td>2.0</td>\n",
       "      <td>1867.940043</td>\n",
       "      <td>140.095503</td>\n",
       "      <td>46.698501</td>\n",
       "      <td>2008.035546</td>\n",
       "      <td>2079</td>\n",
       "    </tr>\n",
       "    <tr>\n",
       "      <td>1</td>\n",
       "      <td>4001</td>\n",
       "      <td>2018-08</td>\n",
       "      <td>7.0</td>\n",
       "      <td>1037.805109</td>\n",
       "      <td>77.835383</td>\n",
       "      <td>25.945128</td>\n",
       "      <td>1115.640492</td>\n",
       "      <td>2058</td>\n",
       "    </tr>\n",
       "  </tbody>\n",
       "</table>\n",
       "</div>"
      ],
      "text/plain": [
       "   salesorderid ordermonth  territoryid     subtotal      taxamt    freight  \\\n",
       "0          4000    2018-10          2.0  1867.940043  140.095503  46.698501   \n",
       "1          4001    2018-08          7.0  1037.805109   77.835383  25.945128   \n",
       "\n",
       "      totaldue  customerid  \n",
       "0  2008.035546        2079  \n",
       "1  1115.640492        2058  "
      ]
     },
     "execution_count": 14,
     "metadata": {},
     "output_type": "execute_result"
    }
   ],
   "source": [
    "queryframe('select * from sales limit 2')"
   ]
  }
 ],
 "metadata": {
  "kernelspec": {
   "display_name": "Python 3",
   "language": "python",
   "name": "python3"
  },
  "language_info": {
   "codemirror_mode": {
    "name": "ipython",
    "version": 3
   },
   "file_extension": ".py",
   "mimetype": "text/x-python",
   "name": "python",
   "nbconvert_exporter": "python",
   "pygments_lexer": "ipython3",
   "version": "3.6.9"
  }
 },
 "nbformat": 4,
 "nbformat_minor": 4
}
